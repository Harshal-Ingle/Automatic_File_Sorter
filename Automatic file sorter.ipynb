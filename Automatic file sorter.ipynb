{
 "cells": [
  {
   "cell_type": "code",
   "execution_count": 1,
   "id": "0fc3d31b-944f-4022-8d98-b3e9ada018c7",
   "metadata": {},
   "outputs": [],
   "source": [
    "import os, shutil"
   ]
  },
  {
   "cell_type": "code",
   "execution_count": 9,
   "id": "df5927f9-07d0-4115-ba6f-5030ef3c3561",
   "metadata": {},
   "outputs": [],
   "source": [
    "path = r\"E:/Automatic file sorter/\""
   ]
  },
  {
   "cell_type": "code",
   "execution_count": 17,
   "id": "2ddbf297-a71d-4a16-bb6f-22defb584084",
   "metadata": {},
   "outputs": [],
   "source": [
    "file_name = os.listdir(path)"
   ]
  },
  {
   "cell_type": "code",
   "execution_count": 19,
   "id": "202e508b-cc85-42f7-9a92-9befd7326e63",
   "metadata": {},
   "outputs": [],
   "source": [
    "folder_names = ['csv_files','txt_files','image_files']\n",
    "for loop in range (0,3) :\n",
    "    if not os.path.exists(path + folder_names[loop]):\n",
    "       print(path + folder_names[loop]) \n",
    "       os.makedirs(path + folder_names[loop]) "
   ]
  },
  {
   "cell_type": "code",
   "execution_count": 29,
   "id": "49b756d3-154e-4799-8a3c-04c849865ef8",
   "metadata": {},
   "outputs": [],
   "source": [
    "for file in file_name:\n",
    "    if \".csv\" in file and not os.path.exists(path + \"csv_files/\" + file):\n",
    "        shutil.move(path + file, path + \"csv_files/\" + file)\n",
    "    elif \".png\" in file and not os.path.exists(path + \"image_files/\" + file):\n",
    "        shutil.move(path + file, path + \"image_files/\" + file)\n",
    "    elif \".jpg\" in file and not os.path.exists(path + \"image_files/\" + file):\n",
    "        shutil.move(path + file, path + \"image_files/\" + file)\n",
    "    elif \".txt\" in file and not os.path.exists(path + \"txt_files/\" + file):\n",
    "        shutil.move(path + file, path + \"txt_files/\" + file)"
   ]
  },
  {
   "cell_type": "code",
   "execution_count": null,
   "id": "951d4d79-71f1-4acc-80f2-aceca0e59be7",
   "metadata": {},
   "outputs": [],
   "source": []
  },
  {
   "cell_type": "code",
   "execution_count": null,
   "id": "6e4988bf-3498-4749-b51b-b611b7cba4a7",
   "metadata": {},
   "outputs": [],
   "source": []
  }
 ],
 "metadata": {
  "kernelspec": {
   "display_name": "Python 3 (ipykernel)",
   "language": "python",
   "name": "python3"
  },
  "language_info": {
   "codemirror_mode": {
    "name": "ipython",
    "version": 3
   },
   "file_extension": ".py",
   "mimetype": "text/x-python",
   "name": "python",
   "nbconvert_exporter": "python",
   "pygments_lexer": "ipython3",
   "version": "3.12.4"
  }
 },
 "nbformat": 4,
 "nbformat_minor": 5
}
